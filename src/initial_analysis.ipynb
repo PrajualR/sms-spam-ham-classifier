{
 "cells": [
  {
   "cell_type": "code",
   "execution_count": 5,
   "id": "c7198a40-9e9c-4974-be23-fc3b13139e14",
   "metadata": {},
   "outputs": [],
   "source": [
    "import pandas as pd\n",
    "import os"
   ]
  },
  {
   "cell_type": "code",
   "execution_count": 69,
   "id": "a5f0de29-58c1-426a-adc8-0420fee2a15a",
   "metadata": {},
   "outputs": [],
   "source": [
    "file_path = 'D:/NLP/SMS_Spam_Classifier/data/raw/SMSSpamCollection.csv'\n",
    "file_path_2 = 'D:/NLP/SMS_Spam_Classifier/data/raw/Dataset_2025.csv'\n",
    "df = pd.read_csv(file_path, encoding='latin1')\n",
    "df_2 = pd.read_csv(file_path_2,encoding='latin1')"
   ]
  },
  {
   "cell_type": "code",
   "execution_count": 96,
   "id": "832d5832-7219-406e-92f5-c9a0c96ece11",
   "metadata": {},
   "outputs": [
    {
     "data": {
      "text/plain": [
       "Label      0\n",
       "Message    0\n",
       "dtype: int64"
      ]
     },
     "execution_count": 96,
     "metadata": {},
     "output_type": "execute_result"
    }
   ],
   "source": [
    "df.isnull().sum()\n"
   ]
  },
  {
   "cell_type": "code",
   "execution_count": 71,
   "id": "2ca4abc0-8318-49b0-9030-47064ee6117a",
   "metadata": {},
   "outputs": [
    {
     "data": {
      "text/plain": [
       "(5974, 2)"
      ]
     },
     "execution_count": 71,
     "metadata": {},
     "output_type": "execute_result"
    }
   ],
   "source": [
    "df_2.shape"
   ]
  },
  {
   "cell_type": "code",
   "execution_count": 73,
   "id": "86e1317d-820d-4d63-b98a-329a7f448288",
   "metadata": {},
   "outputs": [
    {
     "data": {
      "text/html": [
       "<div>\n",
       "<style scoped>\n",
       "    .dataframe tbody tr th:only-of-type {\n",
       "        vertical-align: middle;\n",
       "    }\n",
       "\n",
       "    .dataframe tbody tr th {\n",
       "        vertical-align: top;\n",
       "    }\n",
       "\n",
       "    .dataframe thead th {\n",
       "        text-align: right;\n",
       "    }\n",
       "</style>\n",
       "<table border=\"1\" class=\"dataframe\">\n",
       "  <thead>\n",
       "    <tr style=\"text-align: right;\">\n",
       "      <th></th>\n",
       "      <th>Label</th>\n",
       "      <th>Message</th>\n",
       "    </tr>\n",
       "  </thead>\n",
       "  <tbody>\n",
       "    <tr>\n",
       "      <th>0</th>\n",
       "      <td>ham</td>\n",
       "      <td>Your opinion about me? 1. Over 2. Jada 3. Kusr...</td>\n",
       "    </tr>\n",
       "    <tr>\n",
       "      <th>1</th>\n",
       "      <td>ham</td>\n",
       "      <td>What's up? Do you want me to come online? If y...</td>\n",
       "    </tr>\n",
       "    <tr>\n",
       "      <th>2</th>\n",
       "      <td>ham</td>\n",
       "      <td>So u workin overtime nigpun?</td>\n",
       "    </tr>\n",
       "    <tr>\n",
       "      <th>3</th>\n",
       "      <td>ham</td>\n",
       "      <td>Also sir, i sent you an email about how to log...</td>\n",
       "    </tr>\n",
       "    <tr>\n",
       "      <th>4</th>\n",
       "      <td>Smishing</td>\n",
       "      <td>Please Stay At Home. To encourage the notion o...</td>\n",
       "    </tr>\n",
       "  </tbody>\n",
       "</table>\n",
       "</div>"
      ],
      "text/plain": [
       "      Label                                            Message\n",
       "0       ham  Your opinion about me? 1. Over 2. Jada 3. Kusr...\n",
       "1       ham  What's up? Do you want me to come online? If y...\n",
       "2       ham                       So u workin overtime nigpun?\n",
       "3       ham  Also sir, i sent you an email about how to log...\n",
       "4  Smishing  Please Stay At Home. To encourage the notion o..."
      ]
     },
     "execution_count": 73,
     "metadata": {},
     "output_type": "execute_result"
    }
   ],
   "source": [
    "df_2.head()"
   ]
  },
  {
   "cell_type": "code",
   "execution_count": 75,
   "id": "c8f49578-03dd-47a2-a38f-fddcd1ef86b8",
   "metadata": {},
   "outputs": [],
   "source": [
    "df_2['Label'] = df_2['Label'].map({'ham': 0, 'spam': 1, 'Smishing': 1})\n"
   ]
  },
  {
   "cell_type": "code",
   "execution_count": 77,
   "id": "e5332c3f-5ce6-477d-b7df-e6789a1b6a11",
   "metadata": {},
   "outputs": [],
   "source": [
    "df = df.drop(['Unnamed: 2','Unnamed: 3','Unnamed: 4'], axis =1)\n",
    "df['Label'] = df['Label'].map({'ham': 0, 'spam': 1})\n"
   ]
  },
  {
   "cell_type": "code",
   "execution_count": 79,
   "id": "d0ed4fff-ea9e-41e0-8af6-43c261b02ad2",
   "metadata": {},
   "outputs": [
    {
     "data": {
      "text/plain": [
       "Label\n",
       "0.0    4844\n",
       "1.0    1085\n",
       "Name: count, dtype: int64"
      ]
     },
     "execution_count": 79,
     "metadata": {},
     "output_type": "execute_result"
    }
   ],
   "source": [
    "df_2['Label'].value_counts()"
   ]
  },
  {
   "cell_type": "code",
   "execution_count": 81,
   "id": "b7070c77-6129-48d8-8f7b-e8a745e84591",
   "metadata": {},
   "outputs": [
    {
     "data": {
      "text/plain": [
       "Label\n",
       "0    4825\n",
       "1     747\n",
       "Name: count, dtype: int64"
      ]
     },
     "execution_count": 81,
     "metadata": {},
     "output_type": "execute_result"
    }
   ],
   "source": [
    "df['Label'].value_counts()"
   ]
  },
  {
   "cell_type": "code",
   "execution_count": 83,
   "id": "7fac3490-1bca-46d0-bc04-d9df147d724e",
   "metadata": {},
   "outputs": [
    {
     "data": {
      "text/plain": [
       "<Axes: xlabel='Label', ylabel='count'>"
      ]
     },
     "execution_count": 83,
     "metadata": {},
     "output_type": "execute_result"
    },
    {
     "data": {
      "image/png": "[encoded data removed]",
      "text/plain": [
       "<Figure size 640x480 with 1 Axes>"
      ]
     },
     "metadata": {},
     "output_type": "display_data"
    }
   ],
   "source": [
    "import seaborn as sns\n",
    "import matplotlib.pyplot as plt\n",
    "\n",
    "sns.countplot(x='Label', data=df_2)"
   ]
  },
  {
   "cell_type": "code",
   "execution_count": 88,
   "id": "fc72becb-9855-4eb8-9f83-1612038127f2",
   "metadata": {},
   "outputs": [],
   "source": [
    "result_df = pd.concat([df, df_2], ignore_index=True)\n",
    "final_df = result_df.sample(frac=1).reset_index(drop=True)"
   ]
  },
  {
   "cell_type": "code",
   "execution_count": 90,
   "id": "a2114cf8-47fc-4625-b3c4-d66b538f3de9",
   "metadata": {},
   "outputs": [
    {
     "data": {
      "text/html": [
       "<div>\n",
       "<style scoped>\n",
       "    .dataframe tbody tr th:only-of-type {\n",
       "        vertical-align: middle;\n",
       "    }\n",
       "\n",
       "    .dataframe tbody tr th {\n",
       "        vertical-align: top;\n",
       "    }\n",
       "\n",
       "    .dataframe thead th {\n",
       "        text-align: right;\n",
       "    }\n",
       "</style>\n",
       "<table border=\"1\" class=\"dataframe\">\n",
       "  <thead>\n",
       "    <tr style=\"text-align: right;\">\n",
       "      <th></th>\n",
       "      <th>Label</th>\n",
       "      <th>Message</th>\n",
       "    </tr>\n",
       "  </thead>\n",
       "  <tbody>\n",
       "    <tr>\n",
       "      <th>0</th>\n",
       "      <td>1.0</td>\n",
       "      <td>Today's Offer! Claim ur å£150 worth of discoun...</td>\n",
       "    </tr>\n",
       "    <tr>\n",
       "      <th>1</th>\n",
       "      <td>1.0</td>\n",
       "      <td>January Male Sale! Hot Gay chat now cheaper, c...</td>\n",
       "    </tr>\n",
       "    <tr>\n",
       "      <th>2</th>\n",
       "      <td>0.0</td>\n",
       "      <td>When can Ì_ come out?</td>\n",
       "    </tr>\n",
       "    <tr>\n",
       "      <th>3</th>\n",
       "      <td>1.0</td>\n",
       "      <td>SMS SERVICES. for your inclusive text credits,...</td>\n",
       "    </tr>\n",
       "    <tr>\n",
       "      <th>4</th>\n",
       "      <td>0.0</td>\n",
       "      <td>Cool. So how come you havent been wined and di...</td>\n",
       "    </tr>\n",
       "    <tr>\n",
       "      <th>...</th>\n",
       "      <td>...</td>\n",
       "      <td>...</td>\n",
       "    </tr>\n",
       "    <tr>\n",
       "      <th>11541</th>\n",
       "      <td>0.0</td>\n",
       "      <td>Raji..pls do me a favour. Pls convey my Birthd...</td>\n",
       "    </tr>\n",
       "    <tr>\n",
       "      <th>11542</th>\n",
       "      <td>1.0</td>\n",
       "      <td>This is the 2nd time we have tried 2 contact u...</td>\n",
       "    </tr>\n",
       "    <tr>\n",
       "      <th>11543</th>\n",
       "      <td>0.0</td>\n",
       "      <td>I wonder if you'll get this text?</td>\n",
       "    </tr>\n",
       "    <tr>\n",
       "      <th>11544</th>\n",
       "      <td>0.0</td>\n",
       "      <td>Hmmm:)how many players selected?</td>\n",
       "    </tr>\n",
       "    <tr>\n",
       "      <th>11545</th>\n",
       "      <td>0.0</td>\n",
       "      <td>Just got part Nottingham - 3 hrs 63miles. Good...</td>\n",
       "    </tr>\n",
       "  </tbody>\n",
       "</table>\n",
       "<p>11546 rows × 2 columns</p>\n",
       "</div>"
      ],
      "text/plain": [
       "       Label                                            Message\n",
       "0        1.0  Today's Offer! Claim ur å£150 worth of discoun...\n",
       "1        1.0  January Male Sale! Hot Gay chat now cheaper, c...\n",
       "2        0.0                              When can Ì_ come out?\n",
       "3        1.0  SMS SERVICES. for your inclusive text credits,...\n",
       "4        0.0  Cool. So how come you havent been wined and di...\n",
       "...      ...                                                ...\n",
       "11541    0.0  Raji..pls do me a favour. Pls convey my Birthd...\n",
       "11542    1.0  This is the 2nd time we have tried 2 contact u...\n",
       "11543    0.0                  I wonder if you'll get this text?\n",
       "11544    0.0                   Hmmm:)how many players selected?\n",
       "11545    0.0  Just got part Nottingham - 3 hrs 63miles. Good...\n",
       "\n",
       "[11546 rows x 2 columns]"
      ]
     },
     "execution_count": 90,
     "metadata": {},
     "output_type": "execute_result"
    }
   ],
   "source": [
    "final_df"
   ]
  },
  {
   "cell_type": "code",
   "execution_count": 92,
   "id": "eab1fb1a-d0c7-4232-9718-89a53da51ac7",
   "metadata": {},
   "outputs": [
    {
     "data": {
      "text/plain": [
       "Label\n",
       "0.0    9669\n",
       "1.0    1832\n",
       "Name: count, dtype: int64"
      ]
     },
     "execution_count": 92,
     "metadata": {},
     "output_type": "execute_result"
    }
   ],
   "source": [
    "final_df['Label'].value_counts()"
   ]
  },
  {
   "cell_type": "code",
   "execution_count": 94,
   "id": "f4517e1f-3692-47e2-9acb-93a2a5b7005a",
   "metadata": {},
   "outputs": [
    {
     "data": {
      "text/plain": [
       "Label      45\n",
       "Message     0\n",
       "dtype: int64"
      ]
     },
     "execution_count": 94,
     "metadata": {},
     "output_type": "execute_result"
    }
   ],
   "source": [
    "final_df.isnull().sum()"
   ]
  },
  {
   "cell_type": "code",
   "execution_count": 98,
   "id": "86b7414b-5a2c-4ea1-8e1b-e357d04d2d64",
   "metadata": {},
   "outputs": [
    {
     "data": {
      "text/html": [
       "<div>\n",
       "<style scoped>\n",
       "    .dataframe tbody tr th:only-of-type {\n",
       "        vertical-align: middle;\n",
       "    }\n",
       "\n",
       "    .dataframe tbody tr th {\n",
       "        vertical-align: top;\n",
       "    }\n",
       "\n",
       "    .dataframe thead th {\n",
       "        text-align: right;\n",
       "    }\n",
       "</style>\n",
       "<table border=\"1\" class=\"dataframe\">\n",
       "  <thead>\n",
       "    <tr style=\"text-align: right;\">\n",
       "      <th></th>\n",
       "      <th>Label</th>\n",
       "      <th>Message</th>\n",
       "    </tr>\n",
       "  </thead>\n",
       "  <tbody>\n",
       "    <tr>\n",
       "      <th>0</th>\n",
       "      <td>1.0</td>\n",
       "      <td>Today's Offer! Claim ur å£150 worth of discoun...</td>\n",
       "    </tr>\n",
       "    <tr>\n",
       "      <th>1</th>\n",
       "      <td>1.0</td>\n",
       "      <td>January Male Sale! Hot Gay chat now cheaper, c...</td>\n",
       "    </tr>\n",
       "    <tr>\n",
       "      <th>2</th>\n",
       "      <td>0.0</td>\n",
       "      <td>When can Ì_ come out?</td>\n",
       "    </tr>\n",
       "    <tr>\n",
       "      <th>3</th>\n",
       "      <td>1.0</td>\n",
       "      <td>SMS SERVICES. for your inclusive text credits,...</td>\n",
       "    </tr>\n",
       "    <tr>\n",
       "      <th>4</th>\n",
       "      <td>0.0</td>\n",
       "      <td>Cool. So how come you havent been wined and di...</td>\n",
       "    </tr>\n",
       "    <tr>\n",
       "      <th>...</th>\n",
       "      <td>...</td>\n",
       "      <td>...</td>\n",
       "    </tr>\n",
       "    <tr>\n",
       "      <th>11541</th>\n",
       "      <td>0.0</td>\n",
       "      <td>Raji..pls do me a favour. Pls convey my Birthd...</td>\n",
       "    </tr>\n",
       "    <tr>\n",
       "      <th>11542</th>\n",
       "      <td>1.0</td>\n",
       "      <td>This is the 2nd time we have tried 2 contact u...</td>\n",
       "    </tr>\n",
       "    <tr>\n",
       "      <th>11543</th>\n",
       "      <td>0.0</td>\n",
       "      <td>I wonder if you'll get this text?</td>\n",
       "    </tr>\n",
       "    <tr>\n",
       "      <th>11544</th>\n",
       "      <td>0.0</td>\n",
       "      <td>Hmmm:)how many players selected?</td>\n",
       "    </tr>\n",
       "    <tr>\n",
       "      <th>11545</th>\n",
       "      <td>0.0</td>\n",
       "      <td>Just got part Nottingham - 3 hrs 63miles. Good...</td>\n",
       "    </tr>\n",
       "  </tbody>\n",
       "</table>\n",
       "<p>11501 rows × 2 columns</p>\n",
       "</div>"
      ],
      "text/plain": [
       "       Label                                            Message\n",
       "0        1.0  Today's Offer! Claim ur å£150 worth of discoun...\n",
       "1        1.0  January Male Sale! Hot Gay chat now cheaper, c...\n",
       "2        0.0                              When can Ì_ come out?\n",
       "3        1.0  SMS SERVICES. for your inclusive text credits,...\n",
       "4        0.0  Cool. So how come you havent been wined and di...\n",
       "...      ...                                                ...\n",
       "11541    0.0  Raji..pls do me a favour. Pls convey my Birthd...\n",
       "11542    1.0  This is the 2nd time we have tried 2 contact u...\n",
       "11543    0.0                  I wonder if you'll get this text?\n",
       "11544    0.0                   Hmmm:)how many players selected?\n",
       "11545    0.0  Just got part Nottingham - 3 hrs 63miles. Good...\n",
       "\n",
       "[11501 rows x 2 columns]"
      ]
     },
     "execution_count": 98,
     "metadata": {},
     "output_type": "execute_result"
    }
   ],
   "source": [
    "final_df.dropna()"
   ]
  },
  {
   "cell_type": "code",
   "execution_count": 100,
   "id": "1deb58c6-494e-4b23-b3af-62688995f34e",
   "metadata": {},
   "outputs": [
    {
     "data": {
      "text/plain": [
       "Label      45\n",
       "Message     0\n",
       "dtype: int64"
      ]
     },
     "execution_count": 100,
     "metadata": {},
     "output_type": "execute_result"
    }
   ],
   "source": [
    "final_df.isnull().sum()"
   ]
  },
  {
   "cell_type": "code",
   "execution_count": null,
   "id": "a7156929-0f41-4eae-89be-01991da05d4a",
   "metadata": {},
   "outputs": [],
   "source": []
  }
 ],
 "metadata": {
  "kernelspec": {
   "display_name": "Python 3 (ipykernel)",
   "language": "python",
   "name": "python3"
  },
  "language_info": {
   "codemirror_mode": {
    "name": "ipython",
    "version": 3
   },
   "file_extension": ".py",
   "mimetype": "text/x-python",
   "name": "python",
   "nbconvert_exporter": "python",
   "pygments_lexer": "ipython3",
   "version": "3.12.3"
  }
 },
 "nbformat": 4,
 "nbformat_minor": 5
}
